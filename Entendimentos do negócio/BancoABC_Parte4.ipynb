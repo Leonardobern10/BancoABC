{
  "nbformat": 4,
  "nbformat_minor": 0,
  "metadata": {
    "colab": {
      "provenance": []
    },
    "kernelspec": {
      "name": "python3",
      "display_name": "Python 3"
    },
    "language_info": {
      "name": "python"
    }
  },
  "cells": [
    {
      "cell_type": "code",
      "execution_count": 2,
      "metadata": {
        "id": "MKKHhxttm8HH"
      },
      "outputs": [],
      "source": [
        "import pandas as pd\n",
        "import numpy as np\n",
        "import seaborn as sns\n",
        "import matplotlib.pyplot as plt"
      ]
    },
    {
      "cell_type": "code",
      "source": [
        "dados = pd.read_csv('/content/dados.csv')\n",
        "del dados ['Unnamed: 0']\n",
        "dados"
      ],
      "metadata": {
        "colab": {
          "base_uri": "https://localhost:8080/",
          "height": 423
        },
        "id": "2vQkNVRHnDKJ",
        "outputId": "4955e305-12ac-43a3-9c80-ef7ef0bcf545"
      },
      "execution_count": 4,
      "outputs": [
        {
          "output_type": "execute_result",
          "data": {
            "text/plain": [
              "      Score     País  Gênero  Idade  Fidelidade      Saldo  Produtos  Cartão  \\\n",
              "0       619   France  Female     42           2       0.00         1       1   \n",
              "1       608    Spain  Female     41           1   83807.86         1       0   \n",
              "2       502   France  Female     42           8  159660.80         3       1   \n",
              "3       699   France  Female     39           1       0.00         2       0   \n",
              "4       850    Spain  Female     43           2  125510.82         1       1   \n",
              "...     ...      ...     ...    ...         ...        ...       ...     ...   \n",
              "9995    771   France    Male     39           5       0.00         2       1   \n",
              "9996    516   France    Male     35          10   57369.61         1       1   \n",
              "9997    709   France  Female     36           7       0.00         1       0   \n",
              "9998    772  Germany    Male     42           3   75075.31         2       1   \n",
              "9999    792   France  Female     28           4  130142.79         1       1   \n",
              "\n",
              "      Ativo?    Salário  Churn  \n",
              "0          1  101348.88      1  \n",
              "1          1  112542.58      0  \n",
              "2          0  113931.57      1  \n",
              "3          0   93826.63      0  \n",
              "4          1   79084.10      0  \n",
              "...      ...        ...    ...  \n",
              "9995       0   96270.64      0  \n",
              "9996       1  101699.77      0  \n",
              "9997       1   42085.58      1  \n",
              "9998       0   92888.52      1  \n",
              "9999       0   38190.78      0  \n",
              "\n",
              "[10000 rows x 11 columns]"
            ],
            "text/html": [
              "\n",
              "  <div id=\"df-0887e316-4c96-4b0b-a134-8d58c7d875d7\">\n",
              "    <div class=\"colab-df-container\">\n",
              "      <div>\n",
              "<style scoped>\n",
              "    .dataframe tbody tr th:only-of-type {\n",
              "        vertical-align: middle;\n",
              "    }\n",
              "\n",
              "    .dataframe tbody tr th {\n",
              "        vertical-align: top;\n",
              "    }\n",
              "\n",
              "    .dataframe thead th {\n",
              "        text-align: right;\n",
              "    }\n",
              "</style>\n",
              "<table border=\"1\" class=\"dataframe\">\n",
              "  <thead>\n",
              "    <tr style=\"text-align: right;\">\n",
              "      <th></th>\n",
              "      <th>Score</th>\n",
              "      <th>País</th>\n",
              "      <th>Gênero</th>\n",
              "      <th>Idade</th>\n",
              "      <th>Fidelidade</th>\n",
              "      <th>Saldo</th>\n",
              "      <th>Produtos</th>\n",
              "      <th>Cartão</th>\n",
              "      <th>Ativo?</th>\n",
              "      <th>Salário</th>\n",
              "      <th>Churn</th>\n",
              "    </tr>\n",
              "  </thead>\n",
              "  <tbody>\n",
              "    <tr>\n",
              "      <th>0</th>\n",
              "      <td>619</td>\n",
              "      <td>France</td>\n",
              "      <td>Female</td>\n",
              "      <td>42</td>\n",
              "      <td>2</td>\n",
              "      <td>0.00</td>\n",
              "      <td>1</td>\n",
              "      <td>1</td>\n",
              "      <td>1</td>\n",
              "      <td>101348.88</td>\n",
              "      <td>1</td>\n",
              "    </tr>\n",
              "    <tr>\n",
              "      <th>1</th>\n",
              "      <td>608</td>\n",
              "      <td>Spain</td>\n",
              "      <td>Female</td>\n",
              "      <td>41</td>\n",
              "      <td>1</td>\n",
              "      <td>83807.86</td>\n",
              "      <td>1</td>\n",
              "      <td>0</td>\n",
              "      <td>1</td>\n",
              "      <td>112542.58</td>\n",
              "      <td>0</td>\n",
              "    </tr>\n",
              "    <tr>\n",
              "      <th>2</th>\n",
              "      <td>502</td>\n",
              "      <td>France</td>\n",
              "      <td>Female</td>\n",
              "      <td>42</td>\n",
              "      <td>8</td>\n",
              "      <td>159660.80</td>\n",
              "      <td>3</td>\n",
              "      <td>1</td>\n",
              "      <td>0</td>\n",
              "      <td>113931.57</td>\n",
              "      <td>1</td>\n",
              "    </tr>\n",
              "    <tr>\n",
              "      <th>3</th>\n",
              "      <td>699</td>\n",
              "      <td>France</td>\n",
              "      <td>Female</td>\n",
              "      <td>39</td>\n",
              "      <td>1</td>\n",
              "      <td>0.00</td>\n",
              "      <td>2</td>\n",
              "      <td>0</td>\n",
              "      <td>0</td>\n",
              "      <td>93826.63</td>\n",
              "      <td>0</td>\n",
              "    </tr>\n",
              "    <tr>\n",
              "      <th>4</th>\n",
              "      <td>850</td>\n",
              "      <td>Spain</td>\n",
              "      <td>Female</td>\n",
              "      <td>43</td>\n",
              "      <td>2</td>\n",
              "      <td>125510.82</td>\n",
              "      <td>1</td>\n",
              "      <td>1</td>\n",
              "      <td>1</td>\n",
              "      <td>79084.10</td>\n",
              "      <td>0</td>\n",
              "    </tr>\n",
              "    <tr>\n",
              "      <th>...</th>\n",
              "      <td>...</td>\n",
              "      <td>...</td>\n",
              "      <td>...</td>\n",
              "      <td>...</td>\n",
              "      <td>...</td>\n",
              "      <td>...</td>\n",
              "      <td>...</td>\n",
              "      <td>...</td>\n",
              "      <td>...</td>\n",
              "      <td>...</td>\n",
              "      <td>...</td>\n",
              "    </tr>\n",
              "    <tr>\n",
              "      <th>9995</th>\n",
              "      <td>771</td>\n",
              "      <td>France</td>\n",
              "      <td>Male</td>\n",
              "      <td>39</td>\n",
              "      <td>5</td>\n",
              "      <td>0.00</td>\n",
              "      <td>2</td>\n",
              "      <td>1</td>\n",
              "      <td>0</td>\n",
              "      <td>96270.64</td>\n",
              "      <td>0</td>\n",
              "    </tr>\n",
              "    <tr>\n",
              "      <th>9996</th>\n",
              "      <td>516</td>\n",
              "      <td>France</td>\n",
              "      <td>Male</td>\n",
              "      <td>35</td>\n",
              "      <td>10</td>\n",
              "      <td>57369.61</td>\n",
              "      <td>1</td>\n",
              "      <td>1</td>\n",
              "      <td>1</td>\n",
              "      <td>101699.77</td>\n",
              "      <td>0</td>\n",
              "    </tr>\n",
              "    <tr>\n",
              "      <th>9997</th>\n",
              "      <td>709</td>\n",
              "      <td>France</td>\n",
              "      <td>Female</td>\n",
              "      <td>36</td>\n",
              "      <td>7</td>\n",
              "      <td>0.00</td>\n",
              "      <td>1</td>\n",
              "      <td>0</td>\n",
              "      <td>1</td>\n",
              "      <td>42085.58</td>\n",
              "      <td>1</td>\n",
              "    </tr>\n",
              "    <tr>\n",
              "      <th>9998</th>\n",
              "      <td>772</td>\n",
              "      <td>Germany</td>\n",
              "      <td>Male</td>\n",
              "      <td>42</td>\n",
              "      <td>3</td>\n",
              "      <td>75075.31</td>\n",
              "      <td>2</td>\n",
              "      <td>1</td>\n",
              "      <td>0</td>\n",
              "      <td>92888.52</td>\n",
              "      <td>1</td>\n",
              "    </tr>\n",
              "    <tr>\n",
              "      <th>9999</th>\n",
              "      <td>792</td>\n",
              "      <td>France</td>\n",
              "      <td>Female</td>\n",
              "      <td>28</td>\n",
              "      <td>4</td>\n",
              "      <td>130142.79</td>\n",
              "      <td>1</td>\n",
              "      <td>1</td>\n",
              "      <td>0</td>\n",
              "      <td>38190.78</td>\n",
              "      <td>0</td>\n",
              "    </tr>\n",
              "  </tbody>\n",
              "</table>\n",
              "<p>10000 rows × 11 columns</p>\n",
              "</div>\n",
              "      <button class=\"colab-df-convert\" onclick=\"convertToInteractive('df-0887e316-4c96-4b0b-a134-8d58c7d875d7')\"\n",
              "              title=\"Convert this dataframe to an interactive table.\"\n",
              "              style=\"display:none;\">\n",
              "        \n",
              "  <svg xmlns=\"http://www.w3.org/2000/svg\" height=\"24px\"viewBox=\"0 0 24 24\"\n",
              "       width=\"24px\">\n",
              "    <path d=\"M0 0h24v24H0V0z\" fill=\"none\"/>\n",
              "    <path d=\"M18.56 5.44l.94 2.06.94-2.06 2.06-.94-2.06-.94-.94-2.06-.94 2.06-2.06.94zm-11 1L8.5 8.5l.94-2.06 2.06-.94-2.06-.94L8.5 2.5l-.94 2.06-2.06.94zm10 10l.94 2.06.94-2.06 2.06-.94-2.06-.94-.94-2.06-.94 2.06-2.06.94z\"/><path d=\"M17.41 7.96l-1.37-1.37c-.4-.4-.92-.59-1.43-.59-.52 0-1.04.2-1.43.59L10.3 9.45l-7.72 7.72c-.78.78-.78 2.05 0 2.83L4 21.41c.39.39.9.59 1.41.59.51 0 1.02-.2 1.41-.59l7.78-7.78 2.81-2.81c.8-.78.8-2.07 0-2.86zM5.41 20L4 18.59l7.72-7.72 1.47 1.35L5.41 20z\"/>\n",
              "  </svg>\n",
              "      </button>\n",
              "      \n",
              "  <style>\n",
              "    .colab-df-container {\n",
              "      display:flex;\n",
              "      flex-wrap:wrap;\n",
              "      gap: 12px;\n",
              "    }\n",
              "\n",
              "    .colab-df-convert {\n",
              "      background-color: #E8F0FE;\n",
              "      border: none;\n",
              "      border-radius: 50%;\n",
              "      cursor: pointer;\n",
              "      display: none;\n",
              "      fill: #1967D2;\n",
              "      height: 32px;\n",
              "      padding: 0 0 0 0;\n",
              "      width: 32px;\n",
              "    }\n",
              "\n",
              "    .colab-df-convert:hover {\n",
              "      background-color: #E2EBFA;\n",
              "      box-shadow: 0px 1px 2px rgba(60, 64, 67, 0.3), 0px 1px 3px 1px rgba(60, 64, 67, 0.15);\n",
              "      fill: #174EA6;\n",
              "    }\n",
              "\n",
              "    [theme=dark] .colab-df-convert {\n",
              "      background-color: #3B4455;\n",
              "      fill: #D2E3FC;\n",
              "    }\n",
              "\n",
              "    [theme=dark] .colab-df-convert:hover {\n",
              "      background-color: #434B5C;\n",
              "      box-shadow: 0px 1px 3px 1px rgba(0, 0, 0, 0.15);\n",
              "      filter: drop-shadow(0px 1px 2px rgba(0, 0, 0, 0.3));\n",
              "      fill: #FFFFFF;\n",
              "    }\n",
              "  </style>\n",
              "\n",
              "      <script>\n",
              "        const buttonEl =\n",
              "          document.querySelector('#df-0887e316-4c96-4b0b-a134-8d58c7d875d7 button.colab-df-convert');\n",
              "        buttonEl.style.display =\n",
              "          google.colab.kernel.accessAllowed ? 'block' : 'none';\n",
              "\n",
              "        async function convertToInteractive(key) {\n",
              "          const element = document.querySelector('#df-0887e316-4c96-4b0b-a134-8d58c7d875d7');\n",
              "          const dataTable =\n",
              "            await google.colab.kernel.invokeFunction('convertToInteractive',\n",
              "                                                     [key], {});\n",
              "          if (!dataTable) return;\n",
              "\n",
              "          const docLinkHtml = 'Like what you see? Visit the ' +\n",
              "            '<a target=\"_blank\" href=https://colab.research.google.com/notebooks/data_table.ipynb>data table notebook</a>'\n",
              "            + ' to learn more about interactive tables.';\n",
              "          element.innerHTML = '';\n",
              "          dataTable['output_type'] = 'display_data';\n",
              "          await google.colab.output.renderOutput(dataTable, element);\n",
              "          const docLink = document.createElement('div');\n",
              "          docLink.innerHTML = docLinkHtml;\n",
              "          element.appendChild(docLink);\n",
              "        }\n",
              "      </script>\n",
              "    </div>\n",
              "  </div>\n",
              "  "
            ]
          },
          "metadata": {},
          "execution_count": 4
        }
      ]
    },
    {
      "cell_type": "markdown",
      "source": [
        "#Quem tem mais probabilidade de sair do banco, homens ou mulheres?"
      ],
      "metadata": {
        "id": "130QHQZrnkht"
      }
    },
    {
      "cell_type": "code",
      "source": [
        "sns.displot(dados, x = dados['Gênero'], kind = 'hist',\n",
        "            hue = 'Churn', height = 5, aspect = 2,\n",
        "            palette = 'magma', legend = True, multiple = 'stack')"
      ],
      "metadata": {
        "colab": {
          "base_uri": "https://localhost:8080/",
          "height": 386
        },
        "id": "6rnHn12tnVIM",
        "outputId": "155ef5ac-2af3-4962-d43e-3ff99842df22"
      },
      "execution_count": 6,
      "outputs": [
        {
          "output_type": "execute_result",
          "data": {
            "text/plain": [
              "<seaborn.axisgrid.FacetGrid at 0x7f99f4772820>"
            ]
          },
          "metadata": {},
          "execution_count": 6
        },
        {
          "output_type": "display_data",
          "data": {
            "text/plain": [
              "<Figure size 762.375x360 with 1 Axes>"
            ],
            "image/png": "[encoded data removed]"
          },
          "metadata": {
            "needs_background": "light"
          }
        }
      ]
    },
    {
      "cell_type": "code",
      "source": [
        "mulher, homem = dados.groupby(dados['Gênero']).size()\n",
        "print('Total de homens: ', homem)\n",
        "print('Total de mulheres: ', mulher)"
      ],
      "metadata": {
        "colab": {
          "base_uri": "https://localhost:8080/"
        },
        "id": "ddO0pmuOnsub",
        "outputId": "c806b468-dffd-4f72-9c9f-68710664afc3"
      },
      "execution_count": 7,
      "outputs": [
        {
          "output_type": "stream",
          "name": "stdout",
          "text": [
            "Total de homens:  5457\n",
            "Total de mulheres:  4543\n"
          ]
        }
      ]
    },
    {
      "cell_type": "code",
      "source": [
        "ficou, saiu = dados.loc[dados['Gênero']=='Male', 'Churn'].value_counts()\n",
        "print('Em relação aos homens: \\nFicaram: {} \\nSairam: {}'.format(ficou, saiu))\n",
        "print('A proporção de homens que sairam é: {:.2f}'.format(saiu/ficou))"
      ],
      "metadata": {
        "colab": {
          "base_uri": "https://localhost:8080/"
        },
        "id": "MRHKlO3AoIpl",
        "outputId": "f011870b-88ea-431e-d61a-b59cadc931a4"
      },
      "execution_count": 8,
      "outputs": [
        {
          "output_type": "stream",
          "name": "stdout",
          "text": [
            "Em relação aos homens: \n",
            "Ficaram: 4559 \n",
            "Sairam: 898\n",
            "A proporção de homens que sairam é: 0.20\n"
          ]
        }
      ]
    },
    {
      "cell_type": "code",
      "source": [
        "ficou, saiu = dados.loc[dados['Gênero']=='Female', 'Churn'].value_counts()\n",
        "print('Em relação as mulheres: \\nFicaram: {} \\nSairam: {}'.format(ficou, saiu))\n",
        "print('A proporção de mulheres que sairam é: {:.2f}'.format(saiu/ficou))"
      ],
      "metadata": {
        "colab": {
          "base_uri": "https://localhost:8080/"
        },
        "id": "dPf4vWafoMFK",
        "outputId": "d361d37a-a4f4-4f1e-e519-4309d9e11115"
      },
      "execution_count": 9,
      "outputs": [
        {
          "output_type": "stream",
          "name": "stdout",
          "text": [
            "Em relação as mulheres: \n",
            "Ficaram: 3404 \n",
            "Sairam: 1139\n",
            "A proporção de mulheres que sairam é: 0.33\n"
          ]
        }
      ]
    },
    {
      "cell_type": "markdown",
      "source": [
        "As mulheres tem 33% de chances, enquanto os homens tem 20%"
      ],
      "metadata": {
        "id": "O8p4w4UwoSwB"
      }
    },
    {
      "cell_type": "markdown",
      "source": [
        "#Em qual país temos uma probabilidade maior de os clientes nos deixarem?"
      ],
      "metadata": {
        "id": "a4L5X8ZjocmP"
      }
    },
    {
      "cell_type": "code",
      "source": [
        "sns.displot(dados, x = dados['País'], kind = 'hist',\n",
        "            hue = 'Churn', height = 5, aspect = 2,\n",
        "            palette = 'magma', legend = True, multiple = 'stack')"
      ],
      "metadata": {
        "colab": {
          "base_uri": "https://localhost:8080/",
          "height": 386
        },
        "id": "7NkXotRloOrU",
        "outputId": "ad7be25c-7ddf-49fe-b543-be845eecce80"
      },
      "execution_count": 10,
      "outputs": [
        {
          "output_type": "execute_result",
          "data": {
            "text/plain": [
              "<seaborn.axisgrid.FacetGrid at 0x7f99de3dab20>"
            ]
          },
          "metadata": {},
          "execution_count": 10
        },
        {
          "output_type": "display_data",
          "data": {
            "text/plain": [
              "<Figure size 762.375x360 with 1 Axes>"
            ],
            "image/png": "[encoded data removed]"
          },
          "metadata": {
            "needs_background": "light"
          }
        }
      ]
    },
    {
      "cell_type": "code",
      "source": [
        "ficou, saiu = dados.loc[dados['País']=='France', 'Churn'].value_counts()\n",
        "print('Em relação aos franceses: \\nFicaram: {} \\nSairam: {}'.format(ficou, saiu))\n",
        "print('A probabilidade de franceses sairem é: {:.1f}'.format((saiu/ficou)*100),'%')"
      ],
      "metadata": {
        "colab": {
          "base_uri": "https://localhost:8080/"
        },
        "id": "DGNC5ogholO_",
        "outputId": "5806505a-5469-42e0-fed8-b8f3bf0b2130"
      },
      "execution_count": 11,
      "outputs": [
        {
          "output_type": "stream",
          "name": "stdout",
          "text": [
            "Em relação aos franceses: \n",
            "Ficaram: 4204 \n",
            "Sairam: 810\n",
            "A probabilidade de franceses sairem é: 19.3 %\n"
          ]
        }
      ]
    },
    {
      "cell_type": "code",
      "source": [
        "ficou, saiu = dados.loc[dados['País']=='Spain', 'Churn'].value_counts()\n",
        "print('Em relação aos espanhóis: \\nFicaram: {} \\nSairam: {}'.format(ficou, saiu))\n",
        "print('A probabilidade de espanhóis sairem é: {:.1f}'.format((saiu/ficou)*100),'%')"
      ],
      "metadata": {
        "colab": {
          "base_uri": "https://localhost:8080/"
        },
        "id": "TKwtOP5BonTH",
        "outputId": "db6bf0f8-8bcd-4fae-f739-9561e00548bf"
      },
      "execution_count": 12,
      "outputs": [
        {
          "output_type": "stream",
          "name": "stdout",
          "text": [
            "Em relação aos espanhóis: \n",
            "Ficaram: 2064 \n",
            "Sairam: 413\n",
            "A probabilidade de espanhóis sairem é: 20.0 %\n"
          ]
        }
      ]
    },
    {
      "cell_type": "code",
      "source": [
        "ficou, saiu = dados.loc[dados['País']=='Germany', 'Churn'].value_counts()\n",
        "print('Em relação aos alemães: \\nFicaram: {} \\nSairam: {}'.format(ficou, saiu))\n",
        "print('A probabilidade de alemães sairem é: {:.1f}'.format((saiu/ficou)*100),'%')"
      ],
      "metadata": {
        "colab": {
          "base_uri": "https://localhost:8080/"
        },
        "id": "HGtpeCFKopKe",
        "outputId": "68da346a-24d7-4d7b-a7dc-6f19afcb27fd"
      },
      "execution_count": 13,
      "outputs": [
        {
          "output_type": "stream",
          "name": "stdout",
          "text": [
            "Em relação aos alemães: \n",
            "Ficaram: 1695 \n",
            "Sairam: 814\n",
            "A probabilidade de alemães sairem é: 48.0 %\n"
          ]
        }
      ]
    },
    {
      "cell_type": "markdown",
      "source": [
        "#Qual a relação entre a longegidade do cliente na empresa e uma possivel saida?"
      ],
      "metadata": {
        "id": "Jk9Sh_xJoy7p"
      }
    },
    {
      "cell_type": "code",
      "source": [
        "sns.displot(dados, x = dados['Fidelidade'], kind = 'hist',\n",
        "            hue = 'Churn', height = 5, aspect = 2,\n",
        "            palette = 'magma', legend = True, multiple = 'stack',\n",
        "            bins = [0, 1, 2, 3, 4, 5, 6, 7, 8, 9, 10])"
      ],
      "metadata": {
        "colab": {
          "base_uri": "https://localhost:8080/",
          "height": 386
        },
        "id": "_LqnctAAorc9",
        "outputId": "0a4baeda-9935-450d-9c45-af6a1daca9c8"
      },
      "execution_count": 14,
      "outputs": [
        {
          "output_type": "execute_result",
          "data": {
            "text/plain": [
              "<seaborn.axisgrid.FacetGrid at 0x7f99de90fc10>"
            ]
          },
          "metadata": {},
          "execution_count": 14
        },
        {
          "output_type": "display_data",
          "data": {
            "text/plain": [
              "<Figure size 762.375x360 with 1 Axes>"
            ],
            "image/png": "[encoded data removed]"
          },
          "metadata": {
            "needs_background": "light"
          }
        }
      ]
    },
    {
      "cell_type": "code",
      "source": [
        "def fid_churn(x):\n",
        "  ficou, saiu = dados.loc[dados['Fidelidade']==x, 'Churn'].value_counts()\n",
        "  print('Em relação aos que permanceram',x,' anos no banco: \\nFicaram: {} \\nSairam: {}'.format(ficou, saiu))\n",
        "  print('A probabilidade de que os clientes que permaneceram por ',x,' anos no banco saiam é: {:.1f}'.format((saiu/ficou)*100),'%','\\n')\n",
        "\n",
        "for x in range(0, 11):\n",
        "  fid_churn(x)"
      ],
      "metadata": {
        "colab": {
          "base_uri": "https://localhost:8080/"
        },
        "id": "KaDq_Ksqo616",
        "outputId": "8b147200-239d-4cae-e06e-27271001e65b"
      },
      "execution_count": 17,
      "outputs": [
        {
          "output_type": "stream",
          "name": "stdout",
          "text": [
            "Em relação aos que permanceram 0  anos no banco: \n",
            "Ficaram: 318 \n",
            "Sairam: 95\n",
            "A probabilidade de que os clientes que permaneceram por  0  anos no banco saiam é: 29.9 % \n",
            "\n",
            "Em relação aos que permanceram 1  anos no banco: \n",
            "Ficaram: 803 \n",
            "Sairam: 232\n",
            "A probabilidade de que os clientes que permaneceram por  1  anos no banco saiam é: 28.9 % \n",
            "\n",
            "Em relação aos que permanceram 2  anos no banco: \n",
            "Ficaram: 847 \n",
            "Sairam: 201\n",
            "A probabilidade de que os clientes que permaneceram por  2  anos no banco saiam é: 23.7 % \n",
            "\n",
            "Em relação aos que permanceram 3  anos no banco: \n",
            "Ficaram: 796 \n",
            "Sairam: 213\n",
            "A probabilidade de que os clientes que permaneceram por  3  anos no banco saiam é: 26.8 % \n",
            "\n",
            "Em relação aos que permanceram 4  anos no banco: \n",
            "Ficaram: 786 \n",
            "Sairam: 203\n",
            "A probabilidade de que os clientes que permaneceram por  4  anos no banco saiam é: 25.8 % \n",
            "\n",
            "Em relação aos que permanceram 5  anos no banco: \n",
            "Ficaram: 803 \n",
            "Sairam: 209\n",
            "A probabilidade de que os clientes que permaneceram por  5  anos no banco saiam é: 26.0 % \n",
            "\n",
            "Em relação aos que permanceram 6  anos no banco: \n",
            "Ficaram: 771 \n",
            "Sairam: 196\n",
            "A probabilidade de que os clientes que permaneceram por  6  anos no banco saiam é: 25.4 % \n",
            "\n",
            "Em relação aos que permanceram 7  anos no banco: \n",
            "Ficaram: 851 \n",
            "Sairam: 177\n",
            "A probabilidade de que os clientes que permaneceram por  7  anos no banco saiam é: 20.8 % \n",
            "\n",
            "Em relação aos que permanceram 8  anos no banco: \n",
            "Ficaram: 828 \n",
            "Sairam: 197\n",
            "A probabilidade de que os clientes que permaneceram por  8  anos no banco saiam é: 23.8 % \n",
            "\n",
            "Em relação aos que permanceram 9  anos no banco: \n",
            "Ficaram: 771 \n",
            "Sairam: 213\n",
            "A probabilidade de que os clientes que permaneceram por  9  anos no banco saiam é: 27.6 % \n",
            "\n",
            "Em relação aos que permanceram 10  anos no banco: \n",
            "Ficaram: 389 \n",
            "Sairam: 101\n",
            "A probabilidade de que os clientes que permaneceram por  10  anos no banco saiam é: 26.0 % \n",
            "\n"
          ]
        }
      ]
    },
    {
      "cell_type": "markdown",
      "source": [
        "Podemos ver que os recém-chegados (menos de 1 ano) tem mais risco de sair 29,9%"
      ],
      "metadata": {
        "id": "HAFMj1YQpJB4"
      }
    },
    {
      "cell_type": "code",
      "source": [],
      "metadata": {
        "id": "8915h9NLpQ2q"
      },
      "execution_count": null,
      "outputs": []
    }
  ]
}